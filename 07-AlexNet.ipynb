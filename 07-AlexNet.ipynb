{
 "cells": [
  {
   "cell_type": "markdown",
   "metadata": {
    "id": "QRV_7PdLIXhh"
   },
   "source": [
    "# Prática: Redes Neurais Convolucionais\n",
    "\n",
    "Vamos agora implementar a rede [AlexNet](https://papers.nips.cc/paper/4824-imagenet-classification-with-deep-convolutional-neural-networks.pdf), uma das redes que trouxeram todo esse interesse para a área de *deep learning*.\n",
    "\n",
    "\n",
    "\n"
   ]
  },
  {
   "cell_type": "code",
   "execution_count": 1,
   "metadata": {
    "id": "EAgvY5eBIc1s"
   },
   "outputs": [],
   "source": [
    "import time, os, sys, numpy as np\n",
    "import torch\n",
    "import torchvision\n",
    "import torch.nn as nn\n",
    "import torch.nn.functional as F\n",
    "\n",
    "from torch import optim\n",
    "from torchsummary import summary\n",
    "\n",
    "\n",
    "import time, os, sys, numpy as np\n",
    "\n",
    "# Test if GPU is avaliable, if not, use cpu instead\n",
    "device = torch.device('cuda' if torch.cuda.is_available() else 'cpu')\n",
    "n = torch.cuda.device_count()\n",
    "devices_ids= list(range(n))"
   ]
  },
  {
   "cell_type": "code",
   "execution_count": 2,
   "metadata": {
    "id": "Xru0TyJXIjGp"
   },
   "outputs": [],
   "source": [
    "def load_data_cifar10(batch_size, resize=None, root=os.path.join(\n",
    "        '~', '.pytorch', 'datasets', 'cifar10')):\n",
    "    \"\"\"Download the Cifar10 dataset and then load into memory.\"\"\"\n",
    "    root = os.path.expanduser(root)\n",
    "    transformer = []\n",
    "    if resize:\n",
    "        transformer += [torchvision.transforms.Resize(resize)]\n",
    "    transformer += [torchvision.transforms.ToTensor()]\n",
    "    transformer = torchvision.transforms.Compose(transformer)\n",
    "\n",
    "    mnist_train = torchvision.datasets.CIFAR10(root=root, train=True,download=True,transform=transformer)\n",
    "    mnist_test = torchvision.datasets.CIFAR10(root=root, train=False,download=True,transform=transformer)\n",
    "    num_workers = 0 if sys.platform.startswith('win32') else 4\n",
    "\n",
    "    train_iter = torch.utils.data.DataLoader(mnist_train,\n",
    "                                  batch_size, shuffle=True,\n",
    "                                  num_workers=num_workers)\n",
    "    test_iter = torch.utils.data.DataLoader(mnist_test,\n",
    "                                 batch_size, shuffle=False,\n",
    "                                 num_workers=num_workers)\n",
    "    return train_iter, test_iter\n",
    "\n",
    "\n",
    "# Função usada para calcular acurácia\n",
    "def evaluate_accuracy(data_iter, net, loss):\n",
    "    \"\"\"Evaluate accuracy of a model on the given data set.\"\"\"\n",
    "\n",
    "    acc_sum, n, l = torch.Tensor([0]), 0, 0\n",
    "    net.eval()\n",
    "    with torch.no_grad():\n",
    "      for X, y in data_iter:\n",
    "          X, y = X.to(device), y.to(device)\n",
    "          y_hat = net(X)\n",
    "          l += loss(y_hat, y).sum()\n",
    "          acc_sum += (y_hat.argmax(axis=1) == y).sum().item()\n",
    "          n += y.size()[0]\n",
    "\n",
    "    return acc_sum.item() / n, l.item() / len(data_iter)\n",
    "\n",
    "# Função usada no treinamento e validação da rede\n",
    "def train_validate(net, train_iter, test_iter, batch_size, trainer, loss,\n",
    "                   num_epochs):\n",
    "    print('training on', device)\n",
    "    for epoch in range(num_epochs):\n",
    "        net.train()\n",
    "        train_l_sum, train_acc_sum, n, start = 0.0, 0.0, 0, time.time()\n",
    "        for X, y in train_iter:\n",
    "            X, y = X.to(device), y.to(device)\n",
    "            y_hat = net(X)\n",
    "            trainer.zero_grad()\n",
    "            l = loss(y_hat, y).sum()\n",
    "            l.backward()\n",
    "            trainer.step()\n",
    "            train_l_sum += l.item()\n",
    "            train_acc_sum += (y_hat.argmax(axis=1) == y).sum().item()\n",
    "            n += y.size()[0]\n",
    "        test_acc, test_loss = evaluate_accuracy(test_iter, net, loss)\n",
    "        print('epoch %d, train loss %.4f, train acc %.3f, test loss %.4f, '\n",
    "              'test acc %.3f, time %.1f sec'\n",
    "              % (epoch + 1, train_l_sum / len(train_iter), train_acc_sum / n, test_loss,\n",
    "                 test_acc, time.time() - start))"
   ]
  },
  {
   "cell_type": "markdown",
   "metadata": {
    "id": "TO6YizcSIpiH"
   },
   "source": [
    "## AlexNet\n",
    "\n",
    "Agora já temos todo o conhecimento necessário para implementar nossa primeira arquitetura moderna.\n",
    "Vamos implementar a [AlexNet](https://papers.nips.cc/paper/4824-imagenet-classification-with-deep-convolutional-neural-networks.pdf), uma das arquiteturas mais famosas dessa nova onda de rede neurais.\n",
    "\n",
    "<p align=\"center\">\n",
    "  <img width=700 src=\"https://www.researchgate.net/profile/Jaime_Gallego2/publication/318168077/figure/fig1/AS:578190894927872@1514862859810/AlexNet-CNN-architecture-layers.png\">\n",
    "</p>\n",
    "\n",
    "<p align=\"center\">\n",
    "  <img width=700 src=\"https://miro.medium.com/max/700/1*vXBvV_Unz3JAxytc5iSeoQ.png\">\n",
    "</p>\n",
    "\n",
    "Lembre-se que, após cada camada de convolução e linear, há uma ativação não linear ReLU."
   ]
  },
  {
   "cell_type": "code",
   "execution_count": 3,
   "metadata": {
    "id": "n49zil6YlpwL"
   },
   "outputs": [],
   "source": [
    "root = os.path.join('~', '.pytorch', 'datasets', 'cifar10')"
   ]
  },
  {
   "cell_type": "code",
   "execution_count": null,
   "metadata": {
    "id": "LMWfNHpvIoRR"
   },
   "outputs": [
    {
     "name": "stdout",
     "output_type": "stream",
     "text": [
      "----------------------------------------------------------------\n",
      "        Layer (type)               Output Shape         Param #\n",
      "================================================================\n",
      "            Conv2d-1           [-1, 96, 56, 56]          34,944\n",
      "              ReLU-2           [-1, 96, 56, 56]               0\n",
      "         MaxPool2d-3           [-1, 96, 27, 27]               0\n",
      "            Conv2d-4          [-1, 256, 27, 27]         614,656\n",
      "              ReLU-5          [-1, 256, 27, 27]               0\n",
      "         MaxPool2d-6          [-1, 256, 13, 13]               0\n",
      "            Conv2d-7          [-1, 384, 13, 13]         885,120\n",
      "              ReLU-8          [-1, 384, 13, 13]               0\n",
      "            Conv2d-9          [-1, 384, 13, 13]       1,327,488\n",
      "             ReLU-10          [-1, 384, 13, 13]               0\n",
      "           Conv2d-11          [-1, 256, 13, 13]         884,992\n",
      "             ReLU-12          [-1, 256, 13, 13]               0\n",
      "        MaxPool2d-13            [-1, 256, 6, 6]               0\n",
      "AdaptiveAvgPool2d-14            [-1, 256, 6, 6]               0\n",
      "          Dropout-15                 [-1, 9216]               0\n",
      "           Linear-16                 [-1, 4096]      37,752,832\n",
      "             ReLU-17                 [-1, 4096]               0\n",
      "          Dropout-18                 [-1, 4096]               0\n",
      "           Linear-19                 [-1, 4096]      16,781,312\n",
      "             ReLU-20                 [-1, 4096]               0\n",
      "           Linear-21                   [-1, 10]          40,970\n",
      "================================================================\n",
      "Total params: 58,322,314\n",
      "Trainable params: 58,322,314\n",
      "Non-trainable params: 0\n",
      "----------------------------------------------------------------\n",
      "Input size (MB): 0.59\n",
      "Forward/backward pass size (MB): 11.31\n",
      "Params size (MB): 222.48\n",
      "Estimated Total Size (MB): 234.38\n",
      "----------------------------------------------------------------\n",
      "None\n"
     ]
    },
    {
     "name": "stderr",
     "output_type": "stream",
     "text": [
      "100.0%\n"
     ]
    },
    {
     "name": "stdout",
     "output_type": "stream",
     "text": [
      "training on cuda\n",
      "epoch 1, train loss 1.9205, train acc 0.281, test loss 1.5404, test acc 0.428, time 84.2 sec\n",
      "epoch 2, train loss 1.5231, train acc 0.437, test loss 1.4116, test acc 0.475, time 78.5 sec\n",
      "epoch 3, train loss 1.3677, train acc 0.498, test loss 1.2243, test acc 0.556, time 76.9 sec\n",
      "epoch 4, train loss 1.2753, train acc 0.538, test loss 1.1938, test acc 0.572, time 74.6 sec\n",
      "epoch 5, train loss 1.2032, train acc 0.568, test loss 1.1084, test acc 0.603, time 74.6 sec\n",
      "epoch 6, train loss 1.1379, train acc 0.593, test loss 1.0623, test acc 0.627, time 74.9 sec\n",
      "epoch 7, train loss 1.0787, train acc 0.617, test loss 1.0102, test acc 0.638, time 75.1 sec\n",
      "epoch 8, train loss 1.0372, train acc 0.631, test loss 1.0042, test acc 0.647, time 75.1 sec\n",
      "epoch 9, train loss 1.0020, train acc 0.647, test loss 0.9479, test acc 0.667, time 74.7 sec\n",
      "epoch 10, train loss 0.9513, train acc 0.663, test loss 0.9191, test acc 0.675, time 74.8 sec\n",
      "epoch 11, train loss 0.9209, train acc 0.676, test loss 0.8780, test acc 0.690, time 75.0 sec\n",
      "epoch 12, train loss 0.8874, train acc 0.688, test loss 0.8417, test acc 0.702, time 75.1 sec\n",
      "epoch 13, train loss 0.8579, train acc 0.697, test loss 0.8215, test acc 0.716, time 75.0 sec\n",
      "epoch 14, train loss 0.8271, train acc 0.708, test loss 0.8089, test acc 0.716, time 75.0 sec\n",
      "epoch 15, train loss 0.8070, train acc 0.714, test loss 0.8090, test acc 0.720, time 78.9 sec\n",
      "epoch 16, train loss 0.7864, train acc 0.724, test loss 0.7838, test acc 0.730, time 75.5 sec\n",
      "epoch 17, train loss 0.7615, train acc 0.732, test loss 0.8119, test acc 0.715, time 74.9 sec\n",
      "epoch 18, train loss 0.7481, train acc 0.738, test loss 0.7762, test acc 0.729, time 77.9 sec\n",
      "epoch 19, train loss 0.7295, train acc 0.744, test loss 0.7626, test acc 0.733, time 79.6 sec\n",
      "epoch 20, train loss 0.7133, train acc 0.752, test loss 0.7866, test acc 0.729, time 75.8 sec\n"
     ]
    }
   ],
   "source": [
    "# Implementa sua rede neural aqui\n",
    "# Voce pode implementar como uma classe (pois fica mais organizado e é mais facilitado para um debug da rede)\n",
    "# Dica: utilize blocos de sequential para diminuir a complexidade da função de forward\n",
    "# rede baseada na AlexNet\n",
    "class AlexNet(nn.Module):\n",
    "    def __init__(self, input_channels, classes=10, **kwargs):\n",
    "        super(AlexNet, self).__init__(**kwargs)\n",
    "        self.features = nn.Sequential(\n",
    "            nn.Conv2d(input_channels, 96, kernel_size=11, stride=4, padding=2),\n",
    "            nn.ReLU(inplace=True),\n",
    "            nn.MaxPool2d(kernel_size=3, stride=2),\n",
    "            nn.Conv2d(96, 256, kernel_size=5, padding=2),\n",
    "            nn.ReLU(inplace=True),\n",
    "            nn.MaxPool2d(kernel_size=3, stride=2),\n",
    "            nn.Conv2d(256, 384, kernel_size=3, padding=1),\n",
    "            nn.ReLU(inplace=True),\n",
    "            nn.Conv2d(384, 384, kernel_size=3, padding=1),\n",
    "            nn.ReLU(inplace=True),\n",
    "            nn.Conv2d(384, 256, kernel_size=3, padding=1),\n",
    "            nn.ReLU(inplace=True),\n",
    "            nn.MaxPool2d(kernel_size=3, stride=2),\n",
    "        )\n",
    "        self.avgpool = nn.AdaptiveAvgPool2d((6, 6))\n",
    "        self.classifier = nn.Sequential(\n",
    "            nn.Dropout(),\n",
    "            nn.Linear(256 * 6 * 6, 4096),\n",
    "            nn.ReLU(inplace=True),\n",
    "            nn.Dropout(),\n",
    "            nn.Linear(4096, 4096),\n",
    "            nn.ReLU(inplace=True),\n",
    "            nn.Linear(4096, classes),\n",
    "        )\n",
    "\n",
    "    def forward(self, x):\n",
    "        x = self.features(x)\n",
    "        x = self.avgpool(x)\n",
    "        x = torch.flatten(x, 1)\n",
    "        x = self.classifier(x)\n",
    "        return x\n",
    "\n",
    "# parâmetros: número de epochs, learning rate (ou taxa de aprendizado),\n",
    "# tamanho do batch, e lambda do weight decay\n",
    "num_epochs, lr, batch_size, wd_lambda = 20, 0.001, 100, 0.0001\n",
    "\n",
    "net = AlexNet(input_channels=3, classes=10)\n",
    "net.to(device)\n",
    "\n",
    "print(summary(net,(3,227,227))) # visualizar o número de parâmetros da rede e output de cada camada\n",
    "\n",
    "# função de custo (ou loss)\n",
    "loss = nn.CrossEntropyLoss()\n",
    "\n",
    "# carregamento do dado: cifar10\n",
    "train_iter, test_iter = load_data_cifar10(batch_size, resize=227, root=root)\n",
    "\n",
    "# definindo o otimizador\n",
    "trainer = optim.Adam(net.parameters(), lr=lr, weight_decay=wd_lambda)\n",
    "\n",
    "# treinamento e validação via Pytorch\n",
    "train_validate(net, train_iter, test_iter, batch_size, trainer, loss, num_epochs)"
   ]
  }
 ],
 "metadata": {
  "accelerator": "GPU",
  "colab": {
   "provenance": []
  },
  "kernelspec": {
   "display_name": ".venv",
   "language": "python",
   "name": "python3"
  },
  "language_info": {
   "codemirror_mode": {
    "name": "ipython",
    "version": 3
   },
   "file_extension": ".py",
   "mimetype": "text/x-python",
   "name": "python",
   "nbconvert_exporter": "python",
   "pygments_lexer": "ipython3",
   "version": "3.10.12"
  }
 },
 "nbformat": 4,
 "nbformat_minor": 4
}
